{
 "cells": [
  {
   "cell_type": "code",
   "execution_count": 24,
   "id": "0092e42f",
   "metadata": {
    "scrolled": false
   },
   "outputs": [],
   "source": [
    "import pandas as pd\n",
    "\n",
    "df = pd.read_csv('airbnb_data_3000.csv')"
   ]
  },
  {
   "cell_type": "markdown",
   "id": "05a646d5",
   "metadata": {},
   "source": [
    "Fourth static w/ python - Becca\n",
    "distribution of Airbnb's price and the year the home was constructed\n",
    "+ writeup \n"
   ]
  },
  {
   "cell_type": "code",
   "execution_count": 25,
   "id": "c1a2c2c9",
   "metadata": {},
   "outputs": [
    {
     "data": {
      "text/html": [
       "<div>\n",
       "<style scoped>\n",
       "    .dataframe tbody tr th:only-of-type {\n",
       "        vertical-align: middle;\n",
       "    }\n",
       "\n",
       "    .dataframe tbody tr th {\n",
       "        vertical-align: top;\n",
       "    }\n",
       "\n",
       "    .dataframe thead th {\n",
       "        text-align: right;\n",
       "    }\n",
       "</style>\n",
       "<table border=\"1\" class=\"dataframe\">\n",
       "  <thead>\n",
       "    <tr style=\"text-align: right;\">\n",
       "      <th></th>\n",
       "      <th>Unnamed: 0.2</th>\n",
       "      <th>Unnamed: 0.1</th>\n",
       "      <th>Unnamed: 0</th>\n",
       "      <th>id</th>\n",
       "      <th>NAME</th>\n",
       "      <th>host id</th>\n",
       "      <th>host_identity_verified</th>\n",
       "      <th>host name</th>\n",
       "      <th>neighbourhood group</th>\n",
       "      <th>neighbourhood</th>\n",
       "      <th>...</th>\n",
       "      <th>Construction year</th>\n",
       "      <th>price</th>\n",
       "      <th>service fee</th>\n",
       "      <th>minimum nights</th>\n",
       "      <th>number of reviews</th>\n",
       "      <th>review rate number</th>\n",
       "      <th>calculated host listings count</th>\n",
       "      <th>availability 365</th>\n",
       "      <th>house_rules</th>\n",
       "      <th>availability_365</th>\n",
       "    </tr>\n",
       "  </thead>\n",
       "  <tbody>\n",
       "    <tr>\n",
       "      <th>0</th>\n",
       "      <td>0</td>\n",
       "      <td>0</td>\n",
       "      <td>22264</td>\n",
       "      <td>13297743</td>\n",
       "      <td>HOME AWAY FROM HOME 4 Guest private</td>\n",
       "      <td>89446999139</td>\n",
       "      <td>verified</td>\n",
       "      <td>Kevin</td>\n",
       "      <td>Staten Island</td>\n",
       "      <td>West Brighton</td>\n",
       "      <td>...</td>\n",
       "      <td>2021.0</td>\n",
       "      <td>868</td>\n",
       "      <td>$174</td>\n",
       "      <td>2.0</td>\n",
       "      <td>12.0</td>\n",
       "      <td>4.0</td>\n",
       "      <td>3.0</td>\n",
       "      <td>279.0</td>\n",
       "      <td>NaN</td>\n",
       "      <td>279.0</td>\n",
       "    </tr>\n",
       "    <tr>\n",
       "      <th>1</th>\n",
       "      <td>1</td>\n",
       "      <td>1</td>\n",
       "      <td>41430</td>\n",
       "      <td>23883125</td>\n",
       "      <td>Sonder | Stock Exchange | Lively 1BR + Lounge</td>\n",
       "      <td>20634787135</td>\n",
       "      <td>verified</td>\n",
       "      <td>Sonder (NYC)</td>\n",
       "      <td>Manhattan</td>\n",
       "      <td>Financial District</td>\n",
       "      <td>...</td>\n",
       "      <td>2018.0</td>\n",
       "      <td>466</td>\n",
       "      <td>$93</td>\n",
       "      <td>2.0</td>\n",
       "      <td>8.0</td>\n",
       "      <td>4.0</td>\n",
       "      <td>327.0</td>\n",
       "      <td>349.0</td>\n",
       "      <td>NaN</td>\n",
       "      <td>349.0</td>\n",
       "    </tr>\n",
       "    <tr>\n",
       "      <th>2</th>\n",
       "      <td>2</td>\n",
       "      <td>2</td>\n",
       "      <td>18937</td>\n",
       "      <td>11460241</td>\n",
       "      <td>Huge, Sunny Apartment on Bushwick/Bed Stuy Bor...</td>\n",
       "      <td>21398155093</td>\n",
       "      <td>verified</td>\n",
       "      <td>Ryan</td>\n",
       "      <td>Brooklyn</td>\n",
       "      <td>Bedford-Stuyvesant</td>\n",
       "      <td>...</td>\n",
       "      <td>2020.0</td>\n",
       "      <td>1192</td>\n",
       "      <td>$238</td>\n",
       "      <td>2.0</td>\n",
       "      <td>8.0</td>\n",
       "      <td>5.0</td>\n",
       "      <td>1.0</td>\n",
       "      <td>10.0</td>\n",
       "      <td>Please no parties, guests, and loud noise past...</td>\n",
       "      <td>10.0</td>\n",
       "    </tr>\n",
       "    <tr>\n",
       "      <th>3</th>\n",
       "      <td>3</td>\n",
       "      <td>3</td>\n",
       "      <td>46214</td>\n",
       "      <td>26525328</td>\n",
       "      <td>Spacious and stylish 2BR in NoMad - brand new</td>\n",
       "      <td>65151797756</td>\n",
       "      <td>verified</td>\n",
       "      <td>Martin</td>\n",
       "      <td>Manhattan</td>\n",
       "      <td>Chelsea</td>\n",
       "      <td>...</td>\n",
       "      <td>2016.0</td>\n",
       "      <td>1134</td>\n",
       "      <td>$227</td>\n",
       "      <td>3.0</td>\n",
       "      <td>0.0</td>\n",
       "      <td>2.0</td>\n",
       "      <td>3.0</td>\n",
       "      <td>140.0</td>\n",
       "      <td>1. Only the ORIGINAL OCCUPANTS at the time of ...</td>\n",
       "      <td>140.0</td>\n",
       "    </tr>\n",
       "    <tr>\n",
       "      <th>4</th>\n",
       "      <td>4</td>\n",
       "      <td>4</td>\n",
       "      <td>12702</td>\n",
       "      <td>8016651</td>\n",
       "      <td>Best Neighborhood Brand New 1 BDRM!</td>\n",
       "      <td>50275229043</td>\n",
       "      <td>verified</td>\n",
       "      <td>Maky</td>\n",
       "      <td>Manhattan</td>\n",
       "      <td>Lower East Side</td>\n",
       "      <td>...</td>\n",
       "      <td>2007.0</td>\n",
       "      <td>350</td>\n",
       "      <td>$70</td>\n",
       "      <td>1.0</td>\n",
       "      <td>130.0</td>\n",
       "      <td>2.0</td>\n",
       "      <td>1.0</td>\n",
       "      <td>36.0</td>\n",
       "      <td>WHEN BOOKING, PLEASE PROVIDE THE FOLLOWING IN ...</td>\n",
       "      <td>36.0</td>\n",
       "    </tr>\n",
       "  </tbody>\n",
       "</table>\n",
       "<p>5 rows × 27 columns</p>\n",
       "</div>"
      ],
      "text/plain": [
       "   Unnamed: 0.2  Unnamed: 0.1  Unnamed: 0        id  \\\n",
       "0             0             0       22264  13297743   \n",
       "1             1             1       41430  23883125   \n",
       "2             2             2       18937  11460241   \n",
       "3             3             3       46214  26525328   \n",
       "4             4             4       12702   8016651   \n",
       "\n",
       "                                                NAME      host id  \\\n",
       "0                HOME AWAY FROM HOME 4 Guest private  89446999139   \n",
       "1      Sonder | Stock Exchange | Lively 1BR + Lounge  20634787135   \n",
       "2  Huge, Sunny Apartment on Bushwick/Bed Stuy Bor...  21398155093   \n",
       "3      Spacious and stylish 2BR in NoMad - brand new  65151797756   \n",
       "4                Best Neighborhood Brand New 1 BDRM!  50275229043   \n",
       "\n",
       "  host_identity_verified     host name neighbourhood group  \\\n",
       "0               verified         Kevin       Staten Island   \n",
       "1               verified  Sonder (NYC)           Manhattan   \n",
       "2               verified          Ryan            Brooklyn   \n",
       "3               verified        Martin           Manhattan   \n",
       "4               verified          Maky           Manhattan   \n",
       "\n",
       "        neighbourhood  ...  Construction year  price service fee  \\\n",
       "0       West Brighton  ...             2021.0    868       $174    \n",
       "1  Financial District  ...             2018.0    466        $93    \n",
       "2  Bedford-Stuyvesant  ...             2020.0   1192       $238    \n",
       "3             Chelsea  ...             2016.0   1134       $227    \n",
       "4     Lower East Side  ...             2007.0    350        $70    \n",
       "\n",
       "  minimum nights number of reviews review rate number  \\\n",
       "0            2.0              12.0                4.0   \n",
       "1            2.0               8.0                4.0   \n",
       "2            2.0               8.0                5.0   \n",
       "3            3.0               0.0                2.0   \n",
       "4            1.0             130.0                2.0   \n",
       "\n",
       "  calculated host listings count  availability 365  \\\n",
       "0                            3.0             279.0   \n",
       "1                          327.0             349.0   \n",
       "2                            1.0              10.0   \n",
       "3                            3.0             140.0   \n",
       "4                            1.0              36.0   \n",
       "\n",
       "                                         house_rules availability_365  \n",
       "0                                                NaN            279.0  \n",
       "1                                                NaN            349.0  \n",
       "2  Please no parties, guests, and loud noise past...             10.0  \n",
       "3  1. Only the ORIGINAL OCCUPANTS at the time of ...            140.0  \n",
       "4  WHEN BOOKING, PLEASE PROVIDE THE FOLLOWING IN ...             36.0  \n",
       "\n",
       "[5 rows x 27 columns]"
      ]
     },
     "execution_count": 25,
     "metadata": {},
     "output_type": "execute_result"
    }
   ],
   "source": [
    "df.head()"
   ]
  },
  {
   "cell_type": "code",
   "execution_count": 26,
   "id": "5a138566",
   "metadata": {},
   "outputs": [
    {
     "data": {
      "text/plain": [
       "count    2995.000000\n",
       "mean     2012.505843\n",
       "std         5.829596\n",
       "min      2003.000000\n",
       "25%      2007.000000\n",
       "50%      2012.000000\n",
       "75%      2018.000000\n",
       "max      2022.000000\n",
       "Name: Construction year, dtype: float64"
      ]
     },
     "execution_count": 26,
     "metadata": {},
     "output_type": "execute_result"
    }
   ],
   "source": [
    "df['Construction year'].describe()"
   ]
  },
  {
   "cell_type": "code",
   "execution_count": 27,
   "id": "cff87a7c",
   "metadata": {
    "scrolled": true
   },
   "outputs": [
    {
     "data": {
      "text/plain": [
       "count    3000.000000\n",
       "mean      623.378000\n",
       "std       334.401372\n",
       "min        50.000000\n",
       "25%       330.750000\n",
       "50%       628.500000\n",
       "75%       907.000000\n",
       "max      1199.000000\n",
       "Name: price, dtype: float64"
      ]
     },
     "execution_count": 27,
     "metadata": {},
     "output_type": "execute_result"
    }
   ],
   "source": [
    "df['price'].describe()"
   ]
  },
  {
   "cell_type": "code",
   "execution_count": 28,
   "id": "0a9cbe58",
   "metadata": {},
   "outputs": [
    {
     "name": "stdout",
     "output_type": "stream",
     "text": [
      "(2000, 2005]    452\n",
      "(2005, 2010]    759\n",
      "(2010, 2015]    724\n",
      "(2015, 2020]    750\n",
      "(2020, 2025]    310\n",
      "Name: Year_Bucket, dtype: int64\n"
     ]
    }
   ],
   "source": [
    "bins = [2000, 2005, 2010, 2015, 2020, 2025]  # Define the intervals (adjust as needed)\n",
    "\n",
    "# Create construction year buckets\n",
    "df['Year_Bucket'] = pd.cut(df['Construction year'], bins=bins)\n",
    "\n",
    "# Count the occurrences in each bucket\n",
    "bucket_counts = df['Year_Bucket'].value_counts().sort_index()\n",
    "\n",
    "# Display the counts\n",
    "print(bucket_counts)"
   ]
  },
  {
   "cell_type": "code",
   "execution_count": 32,
   "id": "c7a72207",
   "metadata": {
    "scrolled": false
   },
   "outputs": [
    {
     "data": {
      "image/png": "[encoded data removed]",
      "text/plain": [
       "<Figure size 1000x600 with 1 Axes>"
      ]
     },
     "metadata": {},
     "output_type": "display_data"
    }
   ],
   "source": [
    "import matplotlib.pyplot as plt\n",
    "import seaborn as sns\n",
    "\n",
    "#colors sequential and colorblind safe from ColorBrew\n",
    "\n",
    "\n",
    "colors = ['#f1eef6','#d7b5d8','#df65b0','#dd1c77','#980043']\n",
    "\n",
    "plt.figure(figsize=(10, 6))\n",
    "sns.boxplot(x='Year_Bucket', y='price', data=df, palette=colors)\n",
    "plt.title('Daily Price by Construction Year')\n",
    "plt.xlabel('Construction Year Bucket')\n",
    "plt.ylabel('Daily Rental Price')\n",
    "#plt.xticks(rotation=45)  # Rotate x-axis labels for better readability if needed\n",
    "plt.tight_layout()\n",
    "plt.savefig('Daily_Price_by_Construction_Year.png', dpi=300)\n",
    "plt.show()"
   ]
  },
  {
   "cell_type": "code",
   "execution_count": 20,
   "id": "74b20f56",
   "metadata": {},
   "outputs": [],
   "source": [
    "#little difference with the newste houses, but not anything enough to have any real statistical significane"
   ]
  },
  {
   "cell_type": "code",
   "execution_count": null,
   "id": "6d0cdaff",
   "metadata": {},
   "outputs": [],
   "source": [
    "\n",
    "df['price'] = df['price'].str.replace('$', '').str.replace(',', '').astype(float)\n",
    "\n",
    "\n",
    "mean_price = df['price'].mean(skipna=True)\n",
    "\n",
    "\n",
    "df['price'].fillna(mean_price, inplace=True)\n",
    "\n",
    "\n",
    "print(df)"
   ]
  }
 ],
 "metadata": {
  "kernelspec": {
   "display_name": "Python 3 (ipykernel)",
   "language": "python",
   "name": "python3"
  },
  "language_info": {
   "codemirror_mode": {
    "name": "ipython",
    "version": 3
   },
   "file_extension": ".py",
   "mimetype": "text/x-python",
   "name": "python",
   "nbconvert_exporter": "python",
   "pygments_lexer": "ipython3",
   "version": "3.9.13"
  }
 },
 "nbformat": 4,
 "nbformat_minor": 5
}
